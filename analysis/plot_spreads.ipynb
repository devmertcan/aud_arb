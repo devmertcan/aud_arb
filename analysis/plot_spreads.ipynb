{
 "cells": [
  {
   "cell_type": "code",
   "execution_count": null,
   "metadata": {},
   "outputs": [],
   "source": [
    "# analysis/plot_spreads.ipynb\n",
    "\n",
    "import pandas as pd\n",
    "import matplotlib.pyplot as plt\n",
    "\n",
    "# Load TOB snapshots\n",
    "df = pd.read_csv(\"/opt/aud_arb/out/tob_snapshots.csv\")\n",
    "\n",
    "# Ensure timestamp is parsed\n",
    "df[\"timestamp_iso\"] = pd.to_datetime(df[\"timestamp_iso\"])\n",
    "\n",
    "# Separate by exchange\n",
    "ir = df[df[\"exchange\"] == \"independentreserve\"].copy()\n",
    "kraken = df[df[\"exchange\"] == \"kraken\"].copy()\n",
    "\n",
    "# Align snapshots by timestamp (resample 10s)\n",
    "ir = ir.set_index(\"timestamp_iso\").resample(\"10s\").first()\n",
    "kraken = kraken.set_index(\"timestamp_iso\").resample(\"10s\").first()\n",
    "\n",
    "# Merge to compare spreads\n",
    "merged = pd.concat({\"ir\": ir, \"kraken\": kraken}, axis=1)\n",
    "\n",
    "# Compute synthetic cross-exchange spread\n",
    "merged[\"spread_cross\"] = merged[(\"ir\", \"best_bid_price\")] - merged[(\"kraken\", \"best_ask_price\")]\n",
    "\n",
    "# Plot\n",
    "plt.figure(figsize=(12,6))\n",
    "plt.plot(merged.index, merged[\"spread_cross\"], label=\"IR bid - Kraken ask\")\n",
    "plt.axhline(0, color=\"black\", linestyle=\"--\")\n",
    "plt.axhline(0.007 * merged[(\"kraken\", \"best_ask_price\")].mean(), color=\"red\", linestyle=\"--\", label=\"0.7% threshold\")\n",
    "plt.title(\"Cross-Exchange Spread (Independent Reserve vs Kraken)\")\n",
    "plt.ylabel(\"Spread (AUD)\")\n",
    "plt.legend()\n",
    "plt.show()\n"
   ]
  }
 ],
 "metadata": {
  "language_info": {
   "name": "python"
  },
  "orig_nbformat": 4
 },
 "nbformat": 4,
 "nbformat_minor": 2
}
